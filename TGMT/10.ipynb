{
 "cells": [
  {
   "cell_type": "code",
   "execution_count": 14,
   "id": "20c06bef-cd28-4df4-a90d-b159b74dd50f",
   "metadata": {},
   "outputs": [
    {
     "name": "stderr",
     "output_type": "stream",
     "text": [
      "C:\\Users\\HI\\AppData\\Local\\Temp\\ipykernel_29444\\3355280333.py:5: MatplotlibDeprecationWarning: Auto-close()ing of figures upon backend switching is deprecated since 3.8 and will be removed two minor releases later.  To suppress this warning, explicitly call plt.close('all') first.\n",
      "  plt.switch_backend('tkagg')\n"
     ]
    },
    {
     "name": "stdout",
     "output_type": "stream",
     "text": [
      "[(159.54032258064512, 104.52419354838712), (160.6290322580645, 91.45967741935486), (183.49193548387098, 90.91532258064518), (192.7459677419355, 111.05645161290325), (145.93145161290323, 98.53629032258067)]\n"
     ]
    }
   ],
   "source": [
    "from PIL import Image\n",
    "import matplotlib.pyplot as plt\n",
    "my_path = 'C:/Users/HI/Documents/TGMT/02.jpg'\n",
    "im = Image.open(my_path)\n",
    "plt.switch_backend('tkagg')\n",
    "plt.imshow(im)\n",
    "plt.title(\"Click on the image to select points\")\n",
    "points = plt.ginput(5)\n",
    "print(points)\n",
    "plt.show()"
   ]
  },
  {
   "cell_type": "code",
   "execution_count": 20,
   "id": "1f1bab73-fdce-4aa6-8300-347a0ff1ce6e",
   "metadata": {},
   "outputs": [],
   "source": [
    "plt.close()\n",
    "plt.imshow(im)\n",
    "for point in points:\n",
    "    x, y = point\n",
    "    plt.plot(x,y, 'r*')\n",
    "plt.show()"
   ]
  },
  {
   "cell_type": "code",
   "execution_count": null,
   "id": "6b4adff0-ad19-48aa-be0b-a8e9d7996503",
   "metadata": {},
   "outputs": [],
   "source": []
  }
 ],
 "metadata": {
  "kernelspec": {
   "display_name": "Python 3 (ipykernel)",
   "language": "python",
   "name": "python3"
  },
  "language_info": {
   "codemirror_mode": {
    "name": "ipython",
    "version": 3
   },
   "file_extension": ".py",
   "mimetype": "text/x-python",
   "name": "python",
   "nbconvert_exporter": "python",
   "pygments_lexer": "ipython3",
   "version": "3.12.4"
  }
 },
 "nbformat": 4,
 "nbformat_minor": 5
}
