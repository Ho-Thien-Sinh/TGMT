{
 "cells": [
  {
   "cell_type": "code",
   "execution_count": 51,
   "id": "594beb60-6010-4471-a90b-c742f95c81ee",
   "metadata": {},
   "outputs": [],
   "source": [
    "import cv2\n",
    "import time"
   ]
  },
  {
   "cell_type": "code",
   "execution_count": 53,
   "id": "3e8c3742-3a69-4e23-a389-224eae26cd81",
   "metadata": {},
   "outputs": [],
   "source": [
    "camera = cv2.VideoCapture(0)"
   ]
  },
  {
   "cell_type": "code",
   "execution_count": 54,
   "id": "00351464-36a2-4a9c-adaf-29960ed8cd20",
   "metadata": {},
   "outputs": [],
   "source": [
    "cv2.namedWindow('Video Player', cv2.WINDOW_NORMAL)\n",
    "interval = 20\n",
    "count = 0"
   ]
  },
  {
   "cell_type": "code",
   "execution_count": 57,
   "id": "9a0d440a-d8fd-432b-8d97-5e2a8eaddbc3",
   "metadata": {},
   "outputs": [],
   "source": [
    "font = cv2.FONT_HERSHEY_SIMPLEX\n",
    "font_color = (255, 255, 255)\n",
    "font_scale = 1\n",
    "font_thicknes = 2"
   ]
  },
  {
   "cell_type": "code",
   "execution_count": 59,
   "id": "7cabed50-2319-4383-9c9a-0ce255eefae4",
   "metadata": {},
   "outputs": [],
   "source": [
    "while True:\n",
    "    start_time = time.time()\n",
    "    # Đọc 1 frame\n",
    "    ret, frame = camera.read()\n",
    "    if not ret:\n",
    "        break\n",
    "    count = count + 1\n",
    "    if(count%interval==0):\n",
    "        cv2.imwrite(f'C:/Users/HI/Documents/TGMT/1721030497_HoThienSinh/dataimage_{count}.jpg', frame)\n",
    "    end_time = time.time()    \n",
    "    fps = 1/(end_time-start_time)\n",
    "    cv2.putText(frame, f'FPS: {fps:.2f}', (100, 100), font, font_scale, font_color , font_thicknes)\n",
    "    cv2.imshow('Video Player', frame)\n",
    "    if(cv2.waitKey(10)==ord('q')):\n",
    "        break"
   ]
  },
  {
   "cell_type": "code",
   "execution_count": 61,
   "id": "7fe328e1-5875-4060-90db-e65a60cfb66a",
   "metadata": {},
   "outputs": [],
   "source": [
    "camera.release()\n",
    "cv2.destroyAllWindows()"
   ]
  },
  {
   "cell_type": "code",
   "execution_count": null,
   "id": "b68dc879-99dd-470b-b43a-2cb14fcd616b",
   "metadata": {},
   "outputs": [],
   "source": []
  }
 ],
 "metadata": {
  "kernelspec": {
   "display_name": "Python 3 (ipykernel)",
   "language": "python",
   "name": "python3"
  },
  "language_info": {
   "codemirror_mode": {
    "name": "ipython",
    "version": 3
   },
   "file_extension": ".py",
   "mimetype": "text/x-python",
   "name": "python",
   "nbconvert_exporter": "python",
   "pygments_lexer": "ipython3",
   "version": "3.12.4"
  }
 },
 "nbformat": 4,
 "nbformat_minor": 5
}
