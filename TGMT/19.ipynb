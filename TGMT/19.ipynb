{
 "cells": [
  {
   "cell_type": "code",
   "execution_count": 2,
   "id": "500cc1fc-9100-47aa-85d3-75e41323ce48",
   "metadata": {},
   "outputs": [
    {
     "name": "stdout",
     "output_type": "stream",
     "text": [
      "Requirement already satisfied: opencv-python in c:\\users\\hi\\anaconda3\\lib\\site-packages (4.10.0.84)\n",
      "Requirement already satisfied: numpy>=1.21.2 in c:\\users\\hi\\anaconda3\\lib\\site-packages (from opencv-python) (1.26.4)\n"
     ]
    }
   ],
   "source": [
    "!pip install opencv-python"
   ]
  },
  {
   "cell_type": "code",
   "execution_count": null,
   "id": "b9abada0-8b6b-487e-9948-66c81d6f3b3e",
   "metadata": {},
   "outputs": [],
   "source": [
    "def display(title, img):\n",
    "    cv2.imshow(title, img)\n",
    "    cv2.waitKey(0)\n",
    "    cv2.destroyWindow(title)"
   ]
  },
  {
   "cell_type": "code",
   "execution_count": 39,
   "id": "5b6316e0-acec-4229-a68f-484ceedb01b1",
   "metadata": {},
   "outputs": [],
   "source": [
    "import cv2"
   ]
  },
  {
   "cell_type": "code",
   "execution_count": 41,
   "id": "8fef3263-4f3d-4295-b2f9-991cb25dbaa5",
   "metadata": {},
   "outputs": [
    {
     "name": "stdout",
     "output_type": "stream",
     "text": [
      "[[[148 132 103]\n",
      "  [144 128  99]\n",
      "  [142 124  93]\n",
      "  ...\n",
      "  [171 127  68]\n",
      "  [172 128  69]\n",
      "  [172 128  69]]\n",
      "\n",
      " [[146 130 101]\n",
      "  [143 128  96]\n",
      "  [142 124  93]\n",
      "  ...\n",
      "  [168 124  65]\n",
      "  [169 125  66]\n",
      "  [170 126  67]]\n",
      "\n",
      " [[144 129  97]\n",
      "  [142 127  95]\n",
      "  [142 124  93]\n",
      "  ...\n",
      "  [165 121  62]\n",
      "  [166 122  63]\n",
      "  [167 123  64]]\n",
      "\n",
      " ...\n",
      "\n",
      " [[ 16  37  22]\n",
      "  [  9  32  17]\n",
      "  [  0  23   5]\n",
      "  ...\n",
      "  [  9  29  17]\n",
      "  [  0  11   0]\n",
      "  [  7  27  14]]\n",
      "\n",
      " [[ 21  42  27]\n",
      "  [  9  32  17]\n",
      "  [  0  24   6]\n",
      "  ...\n",
      "  [  5  25  13]\n",
      "  [  0  13   0]\n",
      "  [ 17  37  24]]\n",
      "\n",
      " [[ 28  49  34]\n",
      "  [  7  30  15]\n",
      "  [  0  24   6]\n",
      "  ...\n",
      "  [  0  20   8]\n",
      "  [  0  15   2]\n",
      "  [ 27  47  34]]]\n"
     ]
    }
   ],
   "source": [
    "path= 'C:/Users/HI/Documents/TGMT/04.jpg'\n",
    "img = cv2.imread(path)\n",
    "print(img)"
   ]
  },
  {
   "cell_type": "code",
   "execution_count": 43,
   "id": "ad2b1db1-a59c-4fa5-95f7-c11457e64392",
   "metadata": {},
   "outputs": [
    {
     "name": "stdout",
     "output_type": "stream",
     "text": [
      "(180, 320, 3)\n",
      "180\n",
      "320\n",
      "3\n"
     ]
    }
   ],
   "source": [
    "print(img.shape)\n",
    "x, y, z = img.shape\n",
    "print(x)\n",
    "print(y)\n",
    "print(z)"
   ]
  },
  {
   "cell_type": "code",
   "execution_count": 45,
   "id": "af7fb9c3-f517-479d-9743-186697d87444",
   "metadata": {},
   "outputs": [],
   "source": [
    "cv2.imshow('Window', img)\n",
    "cv2.waitKey(10000)\n",
    "cv2.destroyWindow('Window')"
   ]
  },
  {
   "cell_type": "code",
   "execution_count": null,
   "id": "ec397e0e-18c6-49d4-8f67-f4250c546cf9",
   "metadata": {},
   "outputs": [],
   "source": [
    "b, g, r = cv2.split(img)\n",
    "cv2.imshow('Window', img)\n",
    "cv2.imshow('Red', r)\n",
    "cv2.imshow('Green', g)\n",
    "cv2.imshow('Blue', b)\n",
    "cv2.waitKey(0)\n",
    "cv2.destroyAllWindows()"
   ]
  },
  {
   "cell_type": "code",
   "execution_count": null,
   "id": "14debd41-96a7-4e60-876d-bcc8d9eff4a9",
   "metadata": {},
   "outputs": [],
   "source": [
    "gray_img = cv2.cvtColor(img, cv2.COLOR_BGR2GRAY)\n",
    "img_2 = cv2.cvtColor(img, cv2.COLOR_BGR2RGB)\n",
    "cv2.imshow('Window', img)\n",
    "cv2.imshow('gray_img', gray_img)\n",
    "cv2.imshow('img_2', img_2)\n",
    "cv2.waitKey(0)\n",
    "cv2.destroyAllWindows()"
   ]
  },
  {
   "cell_type": "code",
   "execution_count": null,
   "id": "0e04df28-14a8-403d-af52-4ef85fa20df6",
   "metadata": {},
   "outputs": [],
   "source": [
    "height, width, z = img.shape\n",
    "quater_h = height/2\n",
    "quater_w = width/2\n",
    "green_color = (0,255,0)\n",
    "img2 = img.copy()\n",
    "for y in range(int(quater_h)):\n",
    "    for x in range(int(quater_w)):\n",
    "        img_2[y, x] = green_color\n",
    "display('Window', img)\n",
    "display('Window-2', img_2)"
   ]
  },
  {
   "cell_type": "code",
   "execution_count": null,
   "id": "07fee151-7980-49c2-b85d-4ed697f5ddd7",
   "metadata": {},
   "outputs": [],
   "source": []
  }
 ],
 "metadata": {
  "kernelspec": {
   "display_name": "Python 3 (ipykernel)",
   "language": "python",
   "name": "python3"
  },
  "language_info": {
   "codemirror_mode": {
    "name": "ipython",
    "version": 3
   },
   "file_extension": ".py",
   "mimetype": "text/x-python",
   "name": "python",
   "nbconvert_exporter": "python",
   "pygments_lexer": "ipython3",
   "version": "3.12.4"
  }
 },
 "nbformat": 4,
 "nbformat_minor": 5
}
